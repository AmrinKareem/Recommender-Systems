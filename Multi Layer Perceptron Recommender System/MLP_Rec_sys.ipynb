{
  "cells": [
    {
      "cell_type": "code",
      "source": [
        "!pip install keras\n",
        "!pip install tensorflow\n",
        "!pip install pyyaml h5py"
      ],
      "metadata": {
        "colab": {
          "base_uri": "https://localhost:8080/"
        },
        "id": "7ohuZ8r6oatn",
        "outputId": "56ac7f3c-e1a3-4af6-fd49-930e012577fe"
      },
      "id": "7ohuZ8r6oatn",
      "execution_count": 46,
      "outputs": [
        {
          "output_type": "stream",
          "name": "stdout",
          "text": [
            "Looking in indexes: https://pypi.org/simple, https://us-python.pkg.dev/colab-wheels/public/simple/\n",
            "Requirement already satisfied: keras in /usr/local/lib/python3.8/dist-packages (2.9.0)\n",
            "Looking in indexes: https://pypi.org/simple, https://us-python.pkg.dev/colab-wheels/public/simple/\n",
            "Requirement already satisfied: tensorflow in /usr/local/lib/python3.8/dist-packages (2.9.2)\n",
            "Requirement already satisfied: typing-extensions>=3.6.6 in /usr/local/lib/python3.8/dist-packages (from tensorflow) (4.4.0)\n",
            "Requirement already satisfied: keras<2.10.0,>=2.9.0rc0 in /usr/local/lib/python3.8/dist-packages (from tensorflow) (2.9.0)\n",
            "Requirement already satisfied: opt-einsum>=2.3.2 in /usr/local/lib/python3.8/dist-packages (from tensorflow) (3.3.0)\n",
            "Requirement already satisfied: tensorboard<2.10,>=2.9 in /usr/local/lib/python3.8/dist-packages (from tensorflow) (2.9.1)\n",
            "Requirement already satisfied: wrapt>=1.11.0 in /usr/local/lib/python3.8/dist-packages (from tensorflow) (1.14.1)\n",
            "Requirement already satisfied: tensorflow-io-gcs-filesystem>=0.23.1 in /usr/local/lib/python3.8/dist-packages (from tensorflow) (0.28.0)\n",
            "Requirement already satisfied: libclang>=13.0.0 in /usr/local/lib/python3.8/dist-packages (from tensorflow) (14.0.6)\n",
            "Requirement already satisfied: packaging in /usr/local/lib/python3.8/dist-packages (from tensorflow) (21.3)\n",
            "Requirement already satisfied: numpy>=1.20 in /usr/local/lib/python3.8/dist-packages (from tensorflow) (1.21.6)\n",
            "Requirement already satisfied: flatbuffers<2,>=1.12 in /usr/local/lib/python3.8/dist-packages (from tensorflow) (1.12)\n",
            "Requirement already satisfied: six>=1.12.0 in /usr/local/lib/python3.8/dist-packages (from tensorflow) (1.15.0)\n",
            "Requirement already satisfied: keras-preprocessing>=1.1.1 in /usr/local/lib/python3.8/dist-packages (from tensorflow) (1.1.2)\n",
            "Requirement already satisfied: protobuf<3.20,>=3.9.2 in /usr/local/lib/python3.8/dist-packages (from tensorflow) (3.19.6)\n",
            "Requirement already satisfied: setuptools in /usr/local/lib/python3.8/dist-packages (from tensorflow) (57.4.0)\n",
            "Requirement already satisfied: astunparse>=1.6.0 in /usr/local/lib/python3.8/dist-packages (from tensorflow) (1.6.3)\n",
            "Requirement already satisfied: termcolor>=1.1.0 in /usr/local/lib/python3.8/dist-packages (from tensorflow) (2.1.1)\n",
            "Requirement already satisfied: grpcio<2.0,>=1.24.3 in /usr/local/lib/python3.8/dist-packages (from tensorflow) (1.51.1)\n",
            "Requirement already satisfied: h5py>=2.9.0 in /usr/local/lib/python3.8/dist-packages (from tensorflow) (3.1.0)\n",
            "Requirement already satisfied: tensorflow-estimator<2.10.0,>=2.9.0rc0 in /usr/local/lib/python3.8/dist-packages (from tensorflow) (2.9.0)\n",
            "Requirement already satisfied: absl-py>=1.0.0 in /usr/local/lib/python3.8/dist-packages (from tensorflow) (1.3.0)\n",
            "Requirement already satisfied: google-pasta>=0.1.1 in /usr/local/lib/python3.8/dist-packages (from tensorflow) (0.2.0)\n",
            "Requirement already satisfied: gast<=0.4.0,>=0.2.1 in /usr/local/lib/python3.8/dist-packages (from tensorflow) (0.4.0)\n",
            "Requirement already satisfied: wheel<1.0,>=0.23.0 in /usr/local/lib/python3.8/dist-packages (from astunparse>=1.6.0->tensorflow) (0.38.4)\n",
            "Requirement already satisfied: requests<3,>=2.21.0 in /usr/local/lib/python3.8/dist-packages (from tensorboard<2.10,>=2.9->tensorflow) (2.23.0)\n",
            "Requirement already satisfied: werkzeug>=1.0.1 in /usr/local/lib/python3.8/dist-packages (from tensorboard<2.10,>=2.9->tensorflow) (1.0.1)\n",
            "Requirement already satisfied: google-auth<3,>=1.6.3 in /usr/local/lib/python3.8/dist-packages (from tensorboard<2.10,>=2.9->tensorflow) (2.15.0)\n",
            "Requirement already satisfied: markdown>=2.6.8 in /usr/local/lib/python3.8/dist-packages (from tensorboard<2.10,>=2.9->tensorflow) (3.4.1)\n",
            "Requirement already satisfied: tensorboard-plugin-wit>=1.6.0 in /usr/local/lib/python3.8/dist-packages (from tensorboard<2.10,>=2.9->tensorflow) (1.8.1)\n",
            "Requirement already satisfied: tensorboard-data-server<0.7.0,>=0.6.0 in /usr/local/lib/python3.8/dist-packages (from tensorboard<2.10,>=2.9->tensorflow) (0.6.1)\n",
            "Requirement already satisfied: google-auth-oauthlib<0.5,>=0.4.1 in /usr/local/lib/python3.8/dist-packages (from tensorboard<2.10,>=2.9->tensorflow) (0.4.6)\n",
            "Requirement already satisfied: pyasn1-modules>=0.2.1 in /usr/local/lib/python3.8/dist-packages (from google-auth<3,>=1.6.3->tensorboard<2.10,>=2.9->tensorflow) (0.2.8)\n",
            "Requirement already satisfied: rsa<5,>=3.1.4 in /usr/local/lib/python3.8/dist-packages (from google-auth<3,>=1.6.3->tensorboard<2.10,>=2.9->tensorflow) (4.9)\n",
            "Requirement already satisfied: cachetools<6.0,>=2.0.0 in /usr/local/lib/python3.8/dist-packages (from google-auth<3,>=1.6.3->tensorboard<2.10,>=2.9->tensorflow) (5.2.0)\n",
            "Requirement already satisfied: requests-oauthlib>=0.7.0 in /usr/local/lib/python3.8/dist-packages (from google-auth-oauthlib<0.5,>=0.4.1->tensorboard<2.10,>=2.9->tensorflow) (1.3.1)\n",
            "Requirement already satisfied: importlib-metadata>=4.4 in /usr/local/lib/python3.8/dist-packages (from markdown>=2.6.8->tensorboard<2.10,>=2.9->tensorflow) (4.13.0)\n",
            "Requirement already satisfied: zipp>=0.5 in /usr/local/lib/python3.8/dist-packages (from importlib-metadata>=4.4->markdown>=2.6.8->tensorboard<2.10,>=2.9->tensorflow) (3.11.0)\n",
            "Requirement already satisfied: pyasn1<0.5.0,>=0.4.6 in /usr/local/lib/python3.8/dist-packages (from pyasn1-modules>=0.2.1->google-auth<3,>=1.6.3->tensorboard<2.10,>=2.9->tensorflow) (0.4.8)\n",
            "Requirement already satisfied: certifi>=2017.4.17 in /usr/local/lib/python3.8/dist-packages (from requests<3,>=2.21.0->tensorboard<2.10,>=2.9->tensorflow) (2022.9.24)\n",
            "Requirement already satisfied: chardet<4,>=3.0.2 in /usr/local/lib/python3.8/dist-packages (from requests<3,>=2.21.0->tensorboard<2.10,>=2.9->tensorflow) (3.0.4)\n",
            "Requirement already satisfied: idna<3,>=2.5 in /usr/local/lib/python3.8/dist-packages (from requests<3,>=2.21.0->tensorboard<2.10,>=2.9->tensorflow) (2.10)\n",
            "Requirement already satisfied: urllib3!=1.25.0,!=1.25.1,<1.26,>=1.21.1 in /usr/local/lib/python3.8/dist-packages (from requests<3,>=2.21.0->tensorboard<2.10,>=2.9->tensorflow) (1.24.3)\n",
            "Requirement already satisfied: oauthlib>=3.0.0 in /usr/local/lib/python3.8/dist-packages (from requests-oauthlib>=0.7.0->google-auth-oauthlib<0.5,>=0.4.1->tensorboard<2.10,>=2.9->tensorflow) (3.2.2)\n",
            "Requirement already satisfied: pyparsing!=3.0.5,>=2.0.2 in /usr/local/lib/python3.8/dist-packages (from packaging->tensorflow) (3.0.9)\n",
            "Looking in indexes: https://pypi.org/simple, https://us-python.pkg.dev/colab-wheels/public/simple/\n",
            "Requirement already satisfied: pyyaml in /usr/local/lib/python3.8/dist-packages (6.0)\n",
            "Requirement already satisfied: h5py in /usr/local/lib/python3.8/dist-packages (3.1.0)\n",
            "Requirement already satisfied: numpy>=1.17.5 in /usr/local/lib/python3.8/dist-packages (from h5py) (1.21.6)\n"
          ]
        }
      ]
    },
    {
      "cell_type": "code",
      "execution_count": 47,
      "id": "3099602f",
      "metadata": {
        "id": "3099602f"
      },
      "outputs": [],
      "source": [
        "import numpy as np\n",
        "import pandas as pd\n",
        "import tensorflow as tf\n",
        "import re\n",
        "# sklearn imports\n",
        "from sklearn.model_selection import train_test_split\n",
        "# keras/tensorflow imports\n",
        "from tensorflow.keras.layers import Input, Embedding, Flatten, Dense, Multiply, Concatenate\n",
        "from tensorflow.keras.regularizers import l2\n",
        "from tensorflow.keras.models import Model\n",
        "# from tensorflow.keras.optimizers import Adagrad, Adam, SGD, RMSprop\n",
        "from tensorflow.keras.callbacks import EarlyStopping, ModelCheckpoint\n",
        "import tensorflow.keras.backend as K\n",
        "from tensorflow.keras.models import load_model\n",
        "\n",
        "# visualization imports\n",
        "import matplotlib.pyplot as plt\n",
        "%matplotlib inline"
      ]
    },
    {
      "cell_type": "markdown",
      "source": [
        "**Reading the dataset**"
      ],
      "metadata": {
        "id": "WywrS6n8Utd7"
      },
      "id": "WywrS6n8Utd7"
    },
    {
      "cell_type": "code",
      "execution_count": 48,
      "id": "782b6cb3",
      "metadata": {
        "id": "782b6cb3",
        "colab": {
          "base_uri": "https://localhost:8080/"
        },
        "outputId": "9bdd3e74-5fd2-4305-bc90-f25d21ac4a8f"
      },
      "outputs": [
        {
          "output_type": "stream",
          "name": "stdout",
          "text": [
            "File ‘ml-100k.zip’ already there; not retrieving.\n",
            "\n",
            "Archive:  ml-100k.zip\n"
          ]
        }
      ],
      "source": [
        "!wget -nc http://files.grouplens.org/datasets/movielens/ml-100k.zip\n",
        "!unzip -n ml-100k.zip"
      ]
    },
    {
      "cell_type": "code",
      "execution_count": 49,
      "id": "f66cc0b5",
      "metadata": {
        "id": "f66cc0b5"
      },
      "outputs": [],
      "source": [
        "ratings = ['userId','movieId','rating','timestamp']\n",
        "df_ratings = pd.read_csv('ml-100k/u.data', sep='\\t',header=None,names= ratings)\n",
        "df_products = pd.read_csv('ml-100k/u.item', sep='|',header=None, encoding='latin-1')"
      ]
    },
    {
      "cell_type": "code",
      "source": [
        "df_movies=pd.DataFrame()\n",
        "df_movies['movieId']=df_products[0]\n",
        "df_movies['title']=df_products[1]\n",
        "print(df_movies.head())\n",
        "print(df_movies.shape)\n",
        "print(max(df_movies['movieId']))"
      ],
      "metadata": {
        "colab": {
          "base_uri": "https://localhost:8080/"
        },
        "id": "5abi9oTMRfyA",
        "outputId": "c11a2ea7-452f-458a-f83c-1243895d0700"
      },
      "id": "5abi9oTMRfyA",
      "execution_count": 50,
      "outputs": [
        {
          "output_type": "stream",
          "name": "stdout",
          "text": [
            "   movieId              title\n",
            "0        1   Toy Story (1995)\n",
            "1        2   GoldenEye (1995)\n",
            "2        3  Four Rooms (1995)\n",
            "3        4  Get Shorty (1995)\n",
            "4        5     Copycat (1995)\n",
            "(1682, 2)\n",
            "1682\n"
          ]
        }
      ]
    },
    {
      "cell_type": "code",
      "execution_count": 51,
      "id": "e2c7b57b",
      "metadata": {
        "colab": {
          "base_uri": "https://localhost:8080/"
        },
        "id": "e2c7b57b",
        "outputId": "7f372685-2e4e-457a-8bd4-17b0f774e91a"
      },
      "outputs": [
        {
          "output_type": "stream",
          "name": "stdout",
          "text": [
            "There are 943 unique users and 1682 unique movies in this data set\n"
          ]
        }
      ],
      "source": [
        "num_users = len(df_ratings.userId.unique())\n",
        "num_items = len(df_ratings.movieId.unique())\n",
        "print('There are {} unique users and {} unique movies in this data set'.format(num_users, num_items))"
      ]
    },
    {
      "cell_type": "code",
      "execution_count": 52,
      "id": "a5bcfe8a",
      "metadata": {
        "colab": {
          "base_uri": "https://localhost:8080/"
        },
        "id": "a5bcfe8a",
        "outputId": "bdbc7bb6-7c55-4ea9-f765-6fbbeba96156"
      },
      "outputs": [
        {
          "output_type": "stream",
          "name": "stdout",
          "text": [
            "There are 943 distinct users and the max of user ID is also 943\n",
            "There are 1682 distinct movies, however, the max of movie ID is 1682\n",
            "In the context of matrix factorization, the current item vector is in unnecessarily high dimensional space\n",
            "So we need to do some data cleaning to reduce the dimension of item vector back to 1682\n"
          ]
        }
      ],
      "source": [
        "user_maxId = df_ratings.userId.max()\n",
        "item_maxId = df_ratings.movieId.max()\n",
        "print('There are {} distinct users and the max of user ID is also {}'.format(num_users, user_maxId))\n",
        "print('There are {} distinct movies, however, the max of movie ID is {}'.format(num_items, item_maxId))\n",
        "print('In the context of matrix factorization, the current item vector is in unnecessarily high dimensional space')\n",
        "print('So we need to do some data cleaning to reduce the dimension of item vector back to {}'.format(num_items))"
      ]
    },
    {
      "cell_type": "code",
      "execution_count": 53,
      "id": "4e58106c",
      "metadata": {
        "id": "4e58106c"
      },
      "outputs": [],
      "source": [
        "def reduce_item_dim(df_ratings):\n",
        "    \"\"\"\n",
        "    Reduce item vector dimension to the number of distinct items in our data sets\n",
        "    \n",
        "    input: pd.DataFrame, df_ratings should have columns ['userId', 'movieId', 'rating']\n",
        "    output: pd.DataFrame, df_ratings with new 'MovieID' that is compressed\n",
        "    \"\"\"\n",
        "    # pivot\n",
        "    df_user_item = df_ratings.pivot(index='userId', columns='movieId', values='rating')\n",
        "    # reset movieId\n",
        "    df_user_item = df_user_item.T.reset_index(drop=True).T\n",
        "    # undo pivot/melt - compress data frame\n",
        "    df_ratings_new = df_user_item \\\n",
        "        .reset_index('userId') \\\n",
        "        .melt(\n",
        "            id_vars='userId', \n",
        "            value_vars=df_user_item.columns,\n",
        "            var_name='movieId',\n",
        "            value_name='rating')\n",
        "    # drop nan and final clean up\n",
        "    return df_ratings_new.dropna().sort_values(['userId', 'movieId']).reset_index(drop=True)"
      ]
    },
    {
      "cell_type": "code",
      "execution_count": 54,
      "id": "fe68d873",
      "metadata": {
        "colab": {
          "base_uri": "https://localhost:8080/"
        },
        "id": "fe68d873",
        "outputId": "e5d57a5e-ec20-4d58-e485-5d96d325f97d"
      },
      "outputs": [
        {
          "output_type": "stream",
          "name": "stdout",
          "text": [
            "reduce item dimension before:\n",
            "   userId  movieId  rating  timestamp\n",
            "0     196      242       3  881250949\n",
            "1     186      302       3  891717742\n",
            "2      22      377       1  878887116\n",
            "3     244       51       2  880606923\n",
            "4     166      346       1  886397596\n"
          ]
        },
        {
          "output_type": "execute_result",
          "data": {
            "text/plain": [
              "(100000, 4)"
            ]
          },
          "metadata": {},
          "execution_count": 54
        }
      ],
      "source": [
        "print('reduce item dimension before:')\n",
        "print(df_ratings.head())\n",
        "df_ratings.shape"
      ]
    },
    {
      "cell_type": "code",
      "execution_count": 55,
      "id": "4d1e5a46",
      "metadata": {
        "colab": {
          "base_uri": "https://localhost:8080/",
          "height": 223
        },
        "id": "4d1e5a46",
        "outputId": "13e146dd-55aa-4c86-d98c-6dfc17859694"
      },
      "outputs": [
        {
          "output_type": "stream",
          "name": "stdout",
          "text": [
            "reduce item dimension after:\n"
          ]
        },
        {
          "output_type": "execute_result",
          "data": {
            "text/plain": [
              "   userId movieId  rating\n",
              "0       1       0     5.0\n",
              "1       1       1     3.0\n",
              "2       1       2     4.0\n",
              "3       1       3     3.0\n",
              "4       1       4     3.0"
            ],
            "text/html": [
              "\n",
              "  <div id=\"df-3b799ee5-782d-4ef0-a8a0-6dfcbd8bbccd\">\n",
              "    <div class=\"colab-df-container\">\n",
              "      <div>\n",
              "<style scoped>\n",
              "    .dataframe tbody tr th:only-of-type {\n",
              "        vertical-align: middle;\n",
              "    }\n",
              "\n",
              "    .dataframe tbody tr th {\n",
              "        vertical-align: top;\n",
              "    }\n",
              "\n",
              "    .dataframe thead th {\n",
              "        text-align: right;\n",
              "    }\n",
              "</style>\n",
              "<table border=\"1\" class=\"dataframe\">\n",
              "  <thead>\n",
              "    <tr style=\"text-align: right;\">\n",
              "      <th></th>\n",
              "      <th>userId</th>\n",
              "      <th>movieId</th>\n",
              "      <th>rating</th>\n",
              "    </tr>\n",
              "  </thead>\n",
              "  <tbody>\n",
              "    <tr>\n",
              "      <th>0</th>\n",
              "      <td>1</td>\n",
              "      <td>0</td>\n",
              "      <td>5.0</td>\n",
              "    </tr>\n",
              "    <tr>\n",
              "      <th>1</th>\n",
              "      <td>1</td>\n",
              "      <td>1</td>\n",
              "      <td>3.0</td>\n",
              "    </tr>\n",
              "    <tr>\n",
              "      <th>2</th>\n",
              "      <td>1</td>\n",
              "      <td>2</td>\n",
              "      <td>4.0</td>\n",
              "    </tr>\n",
              "    <tr>\n",
              "      <th>3</th>\n",
              "      <td>1</td>\n",
              "      <td>3</td>\n",
              "      <td>3.0</td>\n",
              "    </tr>\n",
              "    <tr>\n",
              "      <th>4</th>\n",
              "      <td>1</td>\n",
              "      <td>4</td>\n",
              "      <td>3.0</td>\n",
              "    </tr>\n",
              "  </tbody>\n",
              "</table>\n",
              "</div>\n",
              "      <button class=\"colab-df-convert\" onclick=\"convertToInteractive('df-3b799ee5-782d-4ef0-a8a0-6dfcbd8bbccd')\"\n",
              "              title=\"Convert this dataframe to an interactive table.\"\n",
              "              style=\"display:none;\">\n",
              "        \n",
              "  <svg xmlns=\"http://www.w3.org/2000/svg\" height=\"24px\"viewBox=\"0 0 24 24\"\n",
              "       width=\"24px\">\n",
              "    <path d=\"M0 0h24v24H0V0z\" fill=\"none\"/>\n",
              "    <path d=\"M18.56 5.44l.94 2.06.94-2.06 2.06-.94-2.06-.94-.94-2.06-.94 2.06-2.06.94zm-11 1L8.5 8.5l.94-2.06 2.06-.94-2.06-.94L8.5 2.5l-.94 2.06-2.06.94zm10 10l.94 2.06.94-2.06 2.06-.94-2.06-.94-.94-2.06-.94 2.06-2.06.94z\"/><path d=\"M17.41 7.96l-1.37-1.37c-.4-.4-.92-.59-1.43-.59-.52 0-1.04.2-1.43.59L10.3 9.45l-7.72 7.72c-.78.78-.78 2.05 0 2.83L4 21.41c.39.39.9.59 1.41.59.51 0 1.02-.2 1.41-.59l7.78-7.78 2.81-2.81c.8-.78.8-2.07 0-2.86zM5.41 20L4 18.59l7.72-7.72 1.47 1.35L5.41 20z\"/>\n",
              "  </svg>\n",
              "      </button>\n",
              "      \n",
              "  <style>\n",
              "    .colab-df-container {\n",
              "      display:flex;\n",
              "      flex-wrap:wrap;\n",
              "      gap: 12px;\n",
              "    }\n",
              "\n",
              "    .colab-df-convert {\n",
              "      background-color: #E8F0FE;\n",
              "      border: none;\n",
              "      border-radius: 50%;\n",
              "      cursor: pointer;\n",
              "      display: none;\n",
              "      fill: #1967D2;\n",
              "      height: 32px;\n",
              "      padding: 0 0 0 0;\n",
              "      width: 32px;\n",
              "    }\n",
              "\n",
              "    .colab-df-convert:hover {\n",
              "      background-color: #E2EBFA;\n",
              "      box-shadow: 0px 1px 2px rgba(60, 64, 67, 0.3), 0px 1px 3px 1px rgba(60, 64, 67, 0.15);\n",
              "      fill: #174EA6;\n",
              "    }\n",
              "\n",
              "    [theme=dark] .colab-df-convert {\n",
              "      background-color: #3B4455;\n",
              "      fill: #D2E3FC;\n",
              "    }\n",
              "\n",
              "    [theme=dark] .colab-df-convert:hover {\n",
              "      background-color: #434B5C;\n",
              "      box-shadow: 0px 1px 3px 1px rgba(0, 0, 0, 0.15);\n",
              "      filter: drop-shadow(0px 1px 2px rgba(0, 0, 0, 0.3));\n",
              "      fill: #FFFFFF;\n",
              "    }\n",
              "  </style>\n",
              "\n",
              "      <script>\n",
              "        const buttonEl =\n",
              "          document.querySelector('#df-3b799ee5-782d-4ef0-a8a0-6dfcbd8bbccd button.colab-df-convert');\n",
              "        buttonEl.style.display =\n",
              "          google.colab.kernel.accessAllowed ? 'block' : 'none';\n",
              "\n",
              "        async function convertToInteractive(key) {\n",
              "          const element = document.querySelector('#df-3b799ee5-782d-4ef0-a8a0-6dfcbd8bbccd');\n",
              "          const dataTable =\n",
              "            await google.colab.kernel.invokeFunction('convertToInteractive',\n",
              "                                                     [key], {});\n",
              "          if (!dataTable) return;\n",
              "\n",
              "          const docLinkHtml = 'Like what you see? Visit the ' +\n",
              "            '<a target=\"_blank\" href=https://colab.research.google.com/notebooks/data_table.ipynb>data table notebook</a>'\n",
              "            + ' to learn more about interactive tables.';\n",
              "          element.innerHTML = '';\n",
              "          dataTable['output_type'] = 'display_data';\n",
              "          await google.colab.output.renderOutput(dataTable, element);\n",
              "          const docLink = document.createElement('div');\n",
              "          docLink.innerHTML = docLinkHtml;\n",
              "          element.appendChild(docLink);\n",
              "        }\n",
              "      </script>\n",
              "    </div>\n",
              "  </div>\n",
              "  "
            ]
          },
          "metadata": {},
          "execution_count": 55
        }
      ],
      "source": [
        "df_ratings = reduce_item_dim(df_ratings)\n",
        "print('reduce item dimension after:')\n",
        "df_ratings.head()"
      ]
    },
    {
      "cell_type": "markdown",
      "source": [
        "**Model configuration**"
      ],
      "metadata": {
        "id": "-bOi6I6FVDFr"
      },
      "id": "-bOi6I6FVDFr"
    },
    {
      "cell_type": "code",
      "execution_count": 56,
      "id": "c934afe9",
      "metadata": {
        "id": "c934afe9"
      },
      "outputs": [],
      "source": [
        "def get_MLP_model(num_users, num_items, layers, reg_layers):\n",
        "    \"\"\"\n",
        "    Build Multi-Layer Perceptron Model Topology\n",
        "    \n",
        "    Parameters\n",
        "    ----------\n",
        "    num_users: int, total number of users\n",
        "    num_iterms: int, total number of items\n",
        "    layers: list of int, each element is the number of hidden units for each layer,\n",
        "        with the exception of first element. First element is the sum of dims of\n",
        "        user latent vector and item latent vector\n",
        "    reg_layers: list of int, each element is the L2 regularization parameter for\n",
        "        each layer in MLP\n",
        "\n",
        "    Return\n",
        "    ------\n",
        "    A Keras Model with MLP model architeture\n",
        "    \"\"\"\n",
        "    assert len(layers) == len(reg_layers)\n",
        "    num_layer = len(layers) # Number of layers in the MLP\n",
        "    # Input variables\n",
        "    user_input = Input(shape=(1,), dtype='int32', name='user_input')\n",
        "    item_input = Input(shape=(1,), dtype='int32', name='item_input')\n",
        "\n",
        "    MLP_Embedding_User = Embedding(\n",
        "        input_dim=num_users + 1,\n",
        "        output_dim=layers[0] // 2,\n",
        "        embeddings_initializer='uniform',\n",
        "        name='user_embedding',\n",
        "        embeddings_regularizer=l2(reg_layers[0]),\n",
        "        input_length=1)\n",
        "    MLP_Embedding_Item = Embedding(\n",
        "        input_dim=num_items + 1,\n",
        "        output_dim=layers[0] // 2,\n",
        "        embeddings_initializer='uniform',\n",
        "        name='item_embedding',\n",
        "        embeddings_regularizer=l2(reg_layers[0]),\n",
        "        input_length=1) \n",
        "    \n",
        "    # Crucial to flatten an embedding vector!\n",
        "    user_latent = Flatten()(MLP_Embedding_User(user_input))\n",
        "    item_latent = Flatten()(MLP_Embedding_Item(item_input))\n",
        "\n",
        "    # The 0-th layer is the concatenation of embedding layers\n",
        "    vector = Concatenate(axis=-1)([user_latent, item_latent])\n",
        "\n",
        "    # MLP layers\n",
        "    for idx in range(1, num_layer):\n",
        "        layer = Dense(\n",
        "            units=layers[idx],\n",
        "            activation='relu',\n",
        "            kernel_initializer='glorot_uniform',\n",
        "            kernel_regularizer=l2(reg_layers[idx]),\n",
        "            name = 'layer%d' %idx)\n",
        "        vector = layer(vector)\n",
        "    \n",
        "    # Final prediction layer\n",
        "    prediction = Dense(1, kernel_initializer='glorot_uniform', name='prediction')(vector)\n",
        "    \n",
        "    # Stitch input and output\n",
        "    model = Model([user_input, item_input], prediction)\n",
        "    \n",
        "    return model"
      ]
    },
    {
      "cell_type": "markdown",
      "source": [
        "**Training the model**"
      ],
      "metadata": {
        "id": "osMSmTUCVMba"
      },
      "id": "osMSmTUCVMba"
    },
    {
      "cell_type": "code",
      "source": [
        "def train_model(model, learner, batch_size, epochs, val_split, inputs, outputs):\n",
        "    \"\"\"\n",
        "    define training routine, train models and save best model\n",
        "    \n",
        "    Parameters\n",
        "    ----------\n",
        "    model: a Keras model\n",
        "    learner: str, one of ['sgd', 'adam', 'rmsprop', 'adagrad']\n",
        "    batch_size: num samples per update\n",
        "    epochs: num iterations\n",
        "    val_split: split ratio for validation data\n",
        "    inputs: inputs data\n",
        "    outputs: outputs data\n",
        "    \"\"\"\n",
        "    # add customized metric\n",
        "    def rmse(y_true, y_pred):\n",
        "        return K.sqrt(K.mean(K.square(y_true - y_pred)))\n",
        "    \n",
        "    # compile model\n",
        "    model.compile(optimizer=learner.lower(), loss='mean_squared_error', metrics=['mean_squared_error', rmse])\n",
        "    \n",
        "    # add call backs\n",
        "    early_stopper = EarlyStopping(monitor='val_rmse', patience=10, verbose=1)\n",
        "    model_saver = ModelCheckpoint(filepath= 'model.hdf5',\n",
        "                                  monitor='val_rmse',\n",
        "                                  save_best_only=True,\n",
        "                                  save_weights_only=True)\n",
        "    print(\"FITTING THE DATA\")\n",
        "    # train model\n",
        "    print(model)\n",
        "    history = model.fit(x=inputs, y=outputs,\n",
        "                        batch_size=batch_size,\n",
        "                        epochs=epochs,\n",
        "                        validation_split=val_split,\n",
        "                        callbacks=[early_stopper, model_saver])\n",
        "    return history\n",
        "\n",
        "\n",
        "def load_trained_model(model, weights_path):\n",
        "    model.load_weights(weights_path)\n",
        "    return model"
      ],
      "metadata": {
        "id": "MEBmwdWgqaqy"
      },
      "id": "MEBmwdWgqaqy",
      "execution_count": 57,
      "outputs": []
    },
    {
      "cell_type": "code",
      "source": [
        "def rmse(test_rating,predictions):\n",
        "   return np.sqrt(np.mean((predictions-test_rating)**2))\n"
      ],
      "metadata": {
        "id": "rrqPuAyvMxwr"
      },
      "id": "rrqPuAyvMxwr",
      "execution_count": 58,
      "outputs": []
    },
    {
      "cell_type": "code",
      "source": [
        "def plot_learning_curve(history, metric):\n",
        "    \n",
        "    # Plot learning curve to compare training error vs. validation error\n",
        "    \n",
        "    # get training error\n",
        "    errors = history.history[metric]\n",
        "    # get validation error\n",
        "    val_errors = history.history['val_{}'.format(metric)]\n",
        "    # get epochs\n",
        "    epochs = range(1, len(errors) + 1)\n",
        "\n",
        "    # plot\n",
        "    plt.figure(figsize=(12, 7))\n",
        "    plt.plot(epochs, errors, 'bo', label='training {}'.format(metric))\n",
        "    plt.plot(epochs, val_errors, 'b', label='validation {}'.format(metric))\n",
        "    plt.xlabel('number of epochs')\n",
        "    plt.ylabel(metric)\n",
        "    plt.title('Model Learning Curve')\n",
        "    plt.grid(True)\n",
        "    plt.legend()\n",
        "    plt.show()"
      ],
      "metadata": {
        "id": "9zOIsNYTulFN"
      },
      "id": "9zOIsNYTulFN",
      "execution_count": 59,
      "outputs": []
    },
    {
      "cell_type": "markdown",
      "source": [
        "**Train - Test Split**"
      ],
      "metadata": {
        "id": "s0EhH_LeVabc"
      },
      "id": "s0EhH_LeVabc"
    },
    {
      "cell_type": "code",
      "source": [
        "import pandas as pd\n",
        "\n",
        "# data config\n",
        "DATAPATH = 'ml-100k/u.data'\n",
        "MODELPATH = 'model.hdf5'\n",
        "TEST_SIZE = 0.25\n",
        "\n",
        "# model config\n",
        "EMBEDDED_DIM = 10\n",
        "L2_REG = 0\n",
        "\n",
        "\n",
        "# trainer config\n",
        "OPTIMIZER = 'adam'\n",
        "BATCH_SIZE = 64\n",
        "EPOCHS = 30\n",
        "VAL_SPLIT = 0.25\n",
        "\n",
        "# load ratings\n",
        "ratings = ['userId','movieId','rating','timestamp']\n",
        "df_ratings = pd.read_csv('ml-100k/u.data', sep='\\t',header=None,names= ratings)\n",
        "\n",
        "# get total number of users and items\n",
        "num_users = len(df_ratings.userId.unique())\n",
        "num_items = len(df_ratings.movieId.unique())\n",
        "print(df_ratings)\n",
        "# train/test split\n",
        "df_train, df_test = train_test_split(df_ratings, test_size=0.25, shuffle=True, random_state=99)\n",
        "\n",
        "inputs =[df_train.userId.values.astype('float32'), df_train.movieId.values.astype('float32')]\n",
        "o=df_train.rating.values\n",
        "outputs=tf.convert_to_tensor(o)\n",
        "print(inputs,type(inputs))\n"
      ],
      "metadata": {
        "id": "uJMb2DUhJ3f3",
        "colab": {
          "base_uri": "https://localhost:8080/"
        },
        "outputId": "06c46dac-eb0d-4d43-a90e-c68076edf909"
      },
      "id": "uJMb2DUhJ3f3",
      "execution_count": 67,
      "outputs": [
        {
          "output_type": "stream",
          "name": "stdout",
          "text": [
            "       userId  movieId  rating  timestamp\n",
            "0         196      242       3  881250949\n",
            "1         186      302       3  891717742\n",
            "2          22      377       1  878887116\n",
            "3         244       51       2  880606923\n",
            "4         166      346       1  886397596\n",
            "...       ...      ...     ...        ...\n",
            "99995     880      476       3  880175444\n",
            "99996     716      204       5  879795543\n",
            "99997     276     1090       1  874795795\n",
            "99998      13      225       2  882399156\n",
            "99999      12      203       3  879959583\n",
            "\n",
            "[100000 rows x 4 columns]\n",
            "[array([232., 505., 128., ...,  70., 399., 523.], dtype=float32), array([ 32.,  66., 499., ...,  88.,  91., 393.], dtype=float32)] <class 'list'>\n"
          ]
        }
      ]
    },
    {
      "cell_type": "markdown",
      "source": [
        "**Model Instantiation**"
      ],
      "metadata": {
        "id": "keW3_dEiVe0q"
      },
      "id": "keW3_dEiVe0q"
    },
    {
      "cell_type": "code",
      "source": [
        "# instantiating a model\n",
        "MLP_model = get_MLP_model(num_users, num_items, [64,32,16,8], [0,0,0,0])\n",
        "MLP_model.summary()\n",
        "history = train_model(MLP_model, 'adam', BATCH_SIZE, EPOCHS, VAL_SPLIT,inputs,outputs)\n",
        "MLP_model = load_trained_model(MLP_model, 'model.hdf5')\n",
        "\n"
      ],
      "metadata": {
        "colab": {
          "base_uri": "https://localhost:8080/"
        },
        "id": "RmLXVrQ8NuvO",
        "outputId": "324498cc-e6b0-4442-a79f-cd3da15c54ab"
      },
      "id": "RmLXVrQ8NuvO",
      "execution_count": 68,
      "outputs": [
        {
          "output_type": "stream",
          "name": "stdout",
          "text": [
            "Model: \"model_4\"\n",
            "__________________________________________________________________________________________________\n",
            " Layer (type)                   Output Shape         Param #     Connected to                     \n",
            "==================================================================================================\n",
            " user_input (InputLayer)        [(None, 1)]          0           []                               \n",
            "                                                                                                  \n",
            " item_input (InputLayer)        [(None, 1)]          0           []                               \n",
            "                                                                                                  \n",
            " user_embedding (Embedding)     (None, 1, 32)        30208       ['user_input[0][0]']             \n",
            "                                                                                                  \n",
            " item_embedding (Embedding)     (None, 1, 32)        53856       ['item_input[0][0]']             \n",
            "                                                                                                  \n",
            " flatten_8 (Flatten)            (None, 32)           0           ['user_embedding[0][0]']         \n",
            "                                                                                                  \n",
            " flatten_9 (Flatten)            (None, 32)           0           ['item_embedding[0][0]']         \n",
            "                                                                                                  \n",
            " concatenate_4 (Concatenate)    (None, 64)           0           ['flatten_8[0][0]',              \n",
            "                                                                  'flatten_9[0][0]']              \n",
            "                                                                                                  \n",
            " layer1 (Dense)                 (None, 32)           2080        ['concatenate_4[0][0]']          \n",
            "                                                                                                  \n",
            " layer2 (Dense)                 (None, 16)           528         ['layer1[0][0]']                 \n",
            "                                                                                                  \n",
            " layer3 (Dense)                 (None, 8)            136         ['layer2[0][0]']                 \n",
            "                                                                                                  \n",
            " prediction (Dense)             (None, 1)            9           ['layer3[0][0]']                 \n",
            "                                                                                                  \n",
            "==================================================================================================\n",
            "Total params: 86,817\n",
            "Trainable params: 86,817\n",
            "Non-trainable params: 0\n",
            "__________________________________________________________________________________________________\n",
            "FITTING THE DATA\n",
            "<keras.engine.functional.Functional object at 0x7fa6a1ef70a0>\n",
            "Epoch 1/30\n",
            "879/879 [==============================] - 4s 3ms/step - loss: 1.7149 - mean_squared_error: 1.7149 - rmse: 1.1641 - val_loss: 0.9293 - val_mean_squared_error: 0.9293 - val_rmse: 0.9601\n",
            "Epoch 2/30\n",
            "879/879 [==============================] - 3s 4ms/step - loss: 0.8921 - mean_squared_error: 0.8921 - rmse: 0.9401 - val_loss: 0.9116 - val_mean_squared_error: 0.9116 - val_rmse: 0.9508\n",
            "Epoch 3/30\n",
            "879/879 [==============================] - 3s 4ms/step - loss: 0.8711 - mean_squared_error: 0.8711 - rmse: 0.9289 - val_loss: 0.9003 - val_mean_squared_error: 0.9003 - val_rmse: 0.9448\n",
            "Epoch 4/30\n",
            "879/879 [==============================] - 3s 3ms/step - loss: 0.8432 - mean_squared_error: 0.8432 - rmse: 0.9139 - val_loss: 0.8908 - val_mean_squared_error: 0.8908 - val_rmse: 0.9397\n",
            "Epoch 5/30\n",
            "879/879 [==============================] - 3s 3ms/step - loss: 0.8124 - mean_squared_error: 0.8124 - rmse: 0.8970 - val_loss: 0.8846 - val_mean_squared_error: 0.8846 - val_rmse: 0.9367\n",
            "Epoch 6/30\n",
            "879/879 [==============================] - 3s 3ms/step - loss: 0.7824 - mean_squared_error: 0.7824 - rmse: 0.8805 - val_loss: 0.8888 - val_mean_squared_error: 0.8888 - val_rmse: 0.9384\n",
            "Epoch 7/30\n",
            "879/879 [==============================] - 3s 3ms/step - loss: 0.7464 - mean_squared_error: 0.7464 - rmse: 0.8598 - val_loss: 0.8980 - val_mean_squared_error: 0.8980 - val_rmse: 0.9435\n",
            "Epoch 8/30\n",
            "879/879 [==============================] - 3s 4ms/step - loss: 0.7076 - mean_squared_error: 0.7076 - rmse: 0.8372 - val_loss: 0.9088 - val_mean_squared_error: 0.9088 - val_rmse: 0.9490\n",
            "Epoch 9/30\n",
            "879/879 [==============================] - 3s 3ms/step - loss: 0.6673 - mean_squared_error: 0.6673 - rmse: 0.8128 - val_loss: 0.9246 - val_mean_squared_error: 0.9246 - val_rmse: 0.9574\n",
            "Epoch 10/30\n",
            "879/879 [==============================] - 3s 3ms/step - loss: 0.6272 - mean_squared_error: 0.6272 - rmse: 0.7881 - val_loss: 0.9649 - val_mean_squared_error: 0.9649 - val_rmse: 0.9772\n",
            "Epoch 11/30\n",
            "879/879 [==============================] - 3s 3ms/step - loss: 0.5899 - mean_squared_error: 0.5899 - rmse: 0.7640 - val_loss: 0.9626 - val_mean_squared_error: 0.9626 - val_rmse: 0.9764\n",
            "Epoch 12/30\n",
            "879/879 [==============================] - 3s 3ms/step - loss: 0.5564 - mean_squared_error: 0.5564 - rmse: 0.7419 - val_loss: 0.9828 - val_mean_squared_error: 0.9828 - val_rmse: 0.9865\n",
            "Epoch 13/30\n",
            "879/879 [==============================] - 3s 3ms/step - loss: 0.5217 - mean_squared_error: 0.5217 - rmse: 0.7183 - val_loss: 1.0180 - val_mean_squared_error: 1.0180 - val_rmse: 1.0045\n",
            "Epoch 14/30\n",
            "879/879 [==============================] - 3s 3ms/step - loss: 0.4941 - mean_squared_error: 0.4941 - rmse: 0.6991 - val_loss: 1.0290 - val_mean_squared_error: 1.0290 - val_rmse: 1.0092\n",
            "Epoch 15/30\n",
            "879/879 [==============================] - 3s 4ms/step - loss: 0.4670 - mean_squared_error: 0.4670 - rmse: 0.6791 - val_loss: 1.0505 - val_mean_squared_error: 1.0505 - val_rmse: 1.0198\n",
            "Epoch 15: early stopping\n"
          ]
        }
      ]
    },
    {
      "cell_type": "markdown",
      "source": [
        "**Making Predictions using the configured model**"
      ],
      "metadata": {
        "id": "jNPsuGZxVlPx"
      },
      "id": "jNPsuGZxVlPx"
    },
    {
      "cell_type": "code",
      "source": [
        "# make prediction using test data\n",
        "predictions = MLP_model.predict([df_test.userId.values.astype('float32'), df_test.movieId.values.astype('float32')])\n",
        "\n",
        "# get the RMSE\n",
        "error = rmse(df_test.rating.values, predictions)\n",
        "print('The out-of-sample RMSE of rating predictions is', round(error, 4))"
      ],
      "metadata": {
        "colab": {
          "base_uri": "https://localhost:8080/"
        },
        "id": "Cqwj0ybZbkRA",
        "outputId": "c40e81eb-a91c-4858-8dd7-247ed7a694e2"
      },
      "id": "Cqwj0ybZbkRA",
      "execution_count": 69,
      "outputs": [
        {
          "output_type": "stream",
          "name": "stdout",
          "text": [
            "782/782 [==============================] - 2s 2ms/step\n",
            "The out-of-sample RMSE of rating predictions is 1.2919\n"
          ]
        }
      ]
    },
    {
      "cell_type": "code",
      "source": [
        "plot_learning_curve(history, 'rmse')"
      ],
      "metadata": {
        "id": "vrqPS_r2ZYPn",
        "colab": {
          "base_uri": "https://localhost:8080/",
          "height": 458
        },
        "outputId": "d532b35b-2b1c-4df6-a2d3-400e1d35213b"
      },
      "id": "vrqPS_r2ZYPn",
      "execution_count": 18,
      "outputs": [
        {
          "output_type": "display_data",
          "data": {
            "text/plain": [
              "<Figure size 864x504 with 1 Axes>"
            ],
            "image/png": "[encoded data removed]"
          },
          "metadata": {
            "needs_background": "light"
          }
        }
      ]
    },
    {
      "cell_type": "markdown",
      "source": [
        "**Creating a sparse matrix movies x users**"
      ],
      "metadata": {
        "id": "rwXpzuBgVuKs"
      },
      "id": "rwXpzuBgVuKs"
    },
    {
      "cell_type": "code",
      "source": [
        "#creating sparse matrix\n",
        "movie_features_df=df_ratings.pivot_table(index='movieId',columns='userId',values='rating').fillna(0)\n",
        "movie_features_df.head()"
      ],
      "metadata": {
        "colab": {
          "base_uri": "https://localhost:8080/",
          "height": 267
        },
        "id": "eR7pDZW2TpqC",
        "outputId": "d4fd6da5-276e-4ddf-83e2-a8fa89e6d805"
      },
      "id": "eR7pDZW2TpqC",
      "execution_count": 19,
      "outputs": [
        {
          "output_type": "execute_result",
          "data": {
            "text/plain": [
              "userId   1    2    3    4    5    6    7    8    9    10   ...  934  935  936  \\\n",
              "movieId                                                    ...                  \n",
              "1        5.0  4.0  0.0  0.0  4.0  4.0  0.0  0.0  0.0  4.0  ...  2.0  3.0  4.0   \n",
              "2        3.0  0.0  0.0  0.0  3.0  0.0  0.0  0.0  0.0  0.0  ...  4.0  0.0  0.0   \n",
              "3        4.0  0.0  0.0  0.0  0.0  0.0  0.0  0.0  0.0  0.0  ...  0.0  0.0  4.0   \n",
              "4        3.0  0.0  0.0  0.0  0.0  0.0  5.0  0.0  0.0  4.0  ...  5.0  0.0  0.0   \n",
              "5        3.0  0.0  0.0  0.0  0.0  0.0  0.0  0.0  0.0  0.0  ...  0.0  0.0  0.0   \n",
              "\n",
              "userId   937  938  939  940  941  942  943  \n",
              "movieId                                     \n",
              "1        0.0  4.0  0.0  0.0  5.0  0.0  0.0  \n",
              "2        0.0  0.0  0.0  0.0  0.0  0.0  5.0  \n",
              "3        0.0  0.0  0.0  0.0  0.0  0.0  0.0  \n",
              "4        0.0  0.0  0.0  2.0  0.0  0.0  0.0  \n",
              "5        0.0  0.0  0.0  0.0  0.0  0.0  0.0  \n",
              "\n",
              "[5 rows x 943 columns]"
            ],
            "text/html": [
              "\n",
              "  <div id=\"df-7b5570de-6fdc-429c-b23a-6a8c86479dce\">\n",
              "    <div class=\"colab-df-container\">\n",
              "      <div>\n",
              "<style scoped>\n",
              "    .dataframe tbody tr th:only-of-type {\n",
              "        vertical-align: middle;\n",
              "    }\n",
              "\n",
              "    .dataframe tbody tr th {\n",
              "        vertical-align: top;\n",
              "    }\n",
              "\n",
              "    .dataframe thead th {\n",
              "        text-align: right;\n",
              "    }\n",
              "</style>\n",
              "<table border=\"1\" class=\"dataframe\">\n",
              "  <thead>\n",
              "    <tr style=\"text-align: right;\">\n",
              "      <th>userId</th>\n",
              "      <th>1</th>\n",
              "      <th>2</th>\n",
              "      <th>3</th>\n",
              "      <th>4</th>\n",
              "      <th>5</th>\n",
              "      <th>6</th>\n",
              "      <th>7</th>\n",
              "      <th>8</th>\n",
              "      <th>9</th>\n",
              "      <th>10</th>\n",
              "      <th>...</th>\n",
              "      <th>934</th>\n",
              "      <th>935</th>\n",
              "      <th>936</th>\n",
              "      <th>937</th>\n",
              "      <th>938</th>\n",
              "      <th>939</th>\n",
              "      <th>940</th>\n",
              "      <th>941</th>\n",
              "      <th>942</th>\n",
              "      <th>943</th>\n",
              "    </tr>\n",
              "    <tr>\n",
              "      <th>movieId</th>\n",
              "      <th></th>\n",
              "      <th></th>\n",
              "      <th></th>\n",
              "      <th></th>\n",
              "      <th></th>\n",
              "      <th></th>\n",
              "      <th></th>\n",
              "      <th></th>\n",
              "      <th></th>\n",
              "      <th></th>\n",
              "      <th></th>\n",
              "      <th></th>\n",
              "      <th></th>\n",
              "      <th></th>\n",
              "      <th></th>\n",
              "      <th></th>\n",
              "      <th></th>\n",
              "      <th></th>\n",
              "      <th></th>\n",
              "      <th></th>\n",
              "      <th></th>\n",
              "    </tr>\n",
              "  </thead>\n",
              "  <tbody>\n",
              "    <tr>\n",
              "      <th>1</th>\n",
              "      <td>5.0</td>\n",
              "      <td>4.0</td>\n",
              "      <td>0.0</td>\n",
              "      <td>0.0</td>\n",
              "      <td>4.0</td>\n",
              "      <td>4.0</td>\n",
              "      <td>0.0</td>\n",
              "      <td>0.0</td>\n",
              "      <td>0.0</td>\n",
              "      <td>4.0</td>\n",
              "      <td>...</td>\n",
              "      <td>2.0</td>\n",
              "      <td>3.0</td>\n",
              "      <td>4.0</td>\n",
              "      <td>0.0</td>\n",
              "      <td>4.0</td>\n",
              "      <td>0.0</td>\n",
              "      <td>0.0</td>\n",
              "      <td>5.0</td>\n",
              "      <td>0.0</td>\n",
              "      <td>0.0</td>\n",
              "    </tr>\n",
              "    <tr>\n",
              "      <th>2</th>\n",
              "      <td>3.0</td>\n",
              "      <td>0.0</td>\n",
              "      <td>0.0</td>\n",
              "      <td>0.0</td>\n",
              "      <td>3.0</td>\n",
              "      <td>0.0</td>\n",
              "      <td>0.0</td>\n",
              "      <td>0.0</td>\n",
              "      <td>0.0</td>\n",
              "      <td>0.0</td>\n",
              "      <td>...</td>\n",
              "      <td>4.0</td>\n",
              "      <td>0.0</td>\n",
              "      <td>0.0</td>\n",
              "      <td>0.0</td>\n",
              "      <td>0.0</td>\n",
              "      <td>0.0</td>\n",
              "      <td>0.0</td>\n",
              "      <td>0.0</td>\n",
              "      <td>0.0</td>\n",
              "      <td>5.0</td>\n",
              "    </tr>\n",
              "    <tr>\n",
              "      <th>3</th>\n",
              "      <td>4.0</td>\n",
              "      <td>0.0</td>\n",
              "      <td>0.0</td>\n",
              "      <td>0.0</td>\n",
              "      <td>0.0</td>\n",
              "      <td>0.0</td>\n",
              "      <td>0.0</td>\n",
              "      <td>0.0</td>\n",
              "      <td>0.0</td>\n",
              "      <td>0.0</td>\n",
              "      <td>...</td>\n",
              "      <td>0.0</td>\n",
              "      <td>0.0</td>\n",
              "      <td>4.0</td>\n",
              "      <td>0.0</td>\n",
              "      <td>0.0</td>\n",
              "      <td>0.0</td>\n",
              "      <td>0.0</td>\n",
              "      <td>0.0</td>\n",
              "      <td>0.0</td>\n",
              "      <td>0.0</td>\n",
              "    </tr>\n",
              "    <tr>\n",
              "      <th>4</th>\n",
              "      <td>3.0</td>\n",
              "      <td>0.0</td>\n",
              "      <td>0.0</td>\n",
              "      <td>0.0</td>\n",
              "      <td>0.0</td>\n",
              "      <td>0.0</td>\n",
              "      <td>5.0</td>\n",
              "      <td>0.0</td>\n",
              "      <td>0.0</td>\n",
              "      <td>4.0</td>\n",
              "      <td>...</td>\n",
              "      <td>5.0</td>\n",
              "      <td>0.0</td>\n",
              "      <td>0.0</td>\n",
              "      <td>0.0</td>\n",
              "      <td>0.0</td>\n",
              "      <td>0.0</td>\n",
              "      <td>2.0</td>\n",
              "      <td>0.0</td>\n",
              "      <td>0.0</td>\n",
              "      <td>0.0</td>\n",
              "    </tr>\n",
              "    <tr>\n",
              "      <th>5</th>\n",
              "      <td>3.0</td>\n",
              "      <td>0.0</td>\n",
              "      <td>0.0</td>\n",
              "      <td>0.0</td>\n",
              "      <td>0.0</td>\n",
              "      <td>0.0</td>\n",
              "      <td>0.0</td>\n",
              "      <td>0.0</td>\n",
              "      <td>0.0</td>\n",
              "      <td>0.0</td>\n",
              "      <td>...</td>\n",
              "      <td>0.0</td>\n",
              "      <td>0.0</td>\n",
              "      <td>0.0</td>\n",
              "      <td>0.0</td>\n",
              "      <td>0.0</td>\n",
              "      <td>0.0</td>\n",
              "      <td>0.0</td>\n",
              "      <td>0.0</td>\n",
              "      <td>0.0</td>\n",
              "      <td>0.0</td>\n",
              "    </tr>\n",
              "  </tbody>\n",
              "</table>\n",
              "<p>5 rows × 943 columns</p>\n",
              "</div>\n",
              "      <button class=\"colab-df-convert\" onclick=\"convertToInteractive('df-7b5570de-6fdc-429c-b23a-6a8c86479dce')\"\n",
              "              title=\"Convert this dataframe to an interactive table.\"\n",
              "              style=\"display:none;\">\n",
              "        \n",
              "  <svg xmlns=\"http://www.w3.org/2000/svg\" height=\"24px\"viewBox=\"0 0 24 24\"\n",
              "       width=\"24px\">\n",
              "    <path d=\"M0 0h24v24H0V0z\" fill=\"none\"/>\n",
              "    <path d=\"M18.56 5.44l.94 2.06.94-2.06 2.06-.94-2.06-.94-.94-2.06-.94 2.06-2.06.94zm-11 1L8.5 8.5l.94-2.06 2.06-.94-2.06-.94L8.5 2.5l-.94 2.06-2.06.94zm10 10l.94 2.06.94-2.06 2.06-.94-2.06-.94-.94-2.06-.94 2.06-2.06.94z\"/><path d=\"M17.41 7.96l-1.37-1.37c-.4-.4-.92-.59-1.43-.59-.52 0-1.04.2-1.43.59L10.3 9.45l-7.72 7.72c-.78.78-.78 2.05 0 2.83L4 21.41c.39.39.9.59 1.41.59.51 0 1.02-.2 1.41-.59l7.78-7.78 2.81-2.81c.8-.78.8-2.07 0-2.86zM5.41 20L4 18.59l7.72-7.72 1.47 1.35L5.41 20z\"/>\n",
              "  </svg>\n",
              "      </button>\n",
              "      \n",
              "  <style>\n",
              "    .colab-df-container {\n",
              "      display:flex;\n",
              "      flex-wrap:wrap;\n",
              "      gap: 12px;\n",
              "    }\n",
              "\n",
              "    .colab-df-convert {\n",
              "      background-color: #E8F0FE;\n",
              "      border: none;\n",
              "      border-radius: 50%;\n",
              "      cursor: pointer;\n",
              "      display: none;\n",
              "      fill: #1967D2;\n",
              "      height: 32px;\n",
              "      padding: 0 0 0 0;\n",
              "      width: 32px;\n",
              "    }\n",
              "\n",
              "    .colab-df-convert:hover {\n",
              "      background-color: #E2EBFA;\n",
              "      box-shadow: 0px 1px 2px rgba(60, 64, 67, 0.3), 0px 1px 3px 1px rgba(60, 64, 67, 0.15);\n",
              "      fill: #174EA6;\n",
              "    }\n",
              "\n",
              "    [theme=dark] .colab-df-convert {\n",
              "      background-color: #3B4455;\n",
              "      fill: #D2E3FC;\n",
              "    }\n",
              "\n",
              "    [theme=dark] .colab-df-convert:hover {\n",
              "      background-color: #434B5C;\n",
              "      box-shadow: 0px 1px 3px 1px rgba(0, 0, 0, 0.15);\n",
              "      filter: drop-shadow(0px 1px 2px rgba(0, 0, 0, 0.3));\n",
              "      fill: #FFFFFF;\n",
              "    }\n",
              "  </style>\n",
              "\n",
              "      <script>\n",
              "        const buttonEl =\n",
              "          document.querySelector('#df-7b5570de-6fdc-429c-b23a-6a8c86479dce button.colab-df-convert');\n",
              "        buttonEl.style.display =\n",
              "          google.colab.kernel.accessAllowed ? 'block' : 'none';\n",
              "\n",
              "        async function convertToInteractive(key) {\n",
              "          const element = document.querySelector('#df-7b5570de-6fdc-429c-b23a-6a8c86479dce');\n",
              "          const dataTable =\n",
              "            await google.colab.kernel.invokeFunction('convertToInteractive',\n",
              "                                                     [key], {});\n",
              "          if (!dataTable) return;\n",
              "\n",
              "          const docLinkHtml = 'Like what you see? Visit the ' +\n",
              "            '<a target=\"_blank\" href=https://colab.research.google.com/notebooks/data_table.ipynb>data table notebook</a>'\n",
              "            + ' to learn more about interactive tables.';\n",
              "          element.innerHTML = '';\n",
              "          dataTable['output_type'] = 'display_data';\n",
              "          await google.colab.output.renderOutput(dataTable, element);\n",
              "          const docLink = document.createElement('div');\n",
              "          docLink.innerHTML = docLinkHtml;\n",
              "          element.appendChild(docLink);\n",
              "        }\n",
              "      </script>\n",
              "    </div>\n",
              "  </div>\n",
              "  "
            ]
          },
          "metadata": {},
          "execution_count": 19
        }
      ]
    },
    {
      "cell_type": "markdown",
      "source": [
        "**Getting user id to make recommendations**"
      ],
      "metadata": {
        "id": "tHOqn9uSYb2d"
      },
      "id": "tHOqn9uSYb2d"
    },
    {
      "cell_type": "code",
      "source": [
        "#Generating a random userId\n",
        "import random\n",
        "query=random.randint(1,943)\n",
        "print(\"The query user id is \",query)"
      ],
      "metadata": {
        "colab": {
          "base_uri": "https://localhost:8080/"
        },
        "id": "CDrdC_SGbIYs",
        "outputId": "d5c26256-5a87-4e41-d5ef-f390169055f2"
      },
      "id": "CDrdC_SGbIYs",
      "execution_count": 20,
      "outputs": [
        {
          "output_type": "stream",
          "name": "stdout",
          "text": [
            "The query user id is  60\n"
          ]
        }
      ]
    },
    {
      "cell_type": "code",
      "source": [
        "#Reading the user_id from the console\n",
        "query=input('Input the user id [1 - 1943]\\n')\n",
        "query=int(query)"
      ],
      "metadata": {
        "colab": {
          "base_uri": "https://localhost:8080/"
        },
        "id": "6CFjtCMM-9BD",
        "outputId": "06b25324-2d61-43e8-959a-7a5ede4f7a05"
      },
      "id": "6CFjtCMM-9BD",
      "execution_count": 70,
      "outputs": [
        {
          "name": "stdout",
          "output_type": "stream",
          "text": [
            "Input the user id [1 - 1943]\n",
            "5\n"
          ]
        }
      ]
    },
    {
      "cell_type": "code",
      "source": [
        "query_user=movie_features_df.loc[:,query]\n",
        "print(query_user.shape)\n",
        "query_user.to_numpy()\n",
        "print(query_user.size)"
      ],
      "metadata": {
        "colab": {
          "base_uri": "https://localhost:8080/"
        },
        "id": "wC0Ii5JKdAEw",
        "outputId": "99115cb8-bb72-4395-8bc1-0799fe2edad2"
      },
      "id": "wC0Ii5JKdAEw",
      "execution_count": 71,
      "outputs": [
        {
          "output_type": "stream",
          "name": "stdout",
          "text": [
            "(1682,)\n",
            "1682\n"
          ]
        }
      ]
    },
    {
      "cell_type": "markdown",
      "source": [
        "**Recommendation process**"
      ],
      "metadata": {
        "id": "P-kzZ1odYs5F"
      },
      "id": "P-kzZ1odYs5F"
    },
    {
      "cell_type": "code",
      "source": [
        "#Finding the unwatched movies (rating =0) by the query user\n",
        "unwatched = np.where(query_user == 0)\n",
        "print(\"No. of unwatched movies is \",len(unwatched[0]))\n",
        "unwatched"
      ],
      "metadata": {
        "colab": {
          "base_uri": "https://localhost:8080/"
        },
        "id": "7bmT0LrtiXBE",
        "outputId": "4c1c8a35-d261-4e52-e739-0b692ca24b5e"
      },
      "id": "7bmT0LrtiXBE",
      "execution_count": 72,
      "outputs": [
        {
          "output_type": "stream",
          "name": "stdout",
          "text": [
            "No. of unwatched movies is  1507\n"
          ]
        },
        {
          "output_type": "execute_result",
          "data": {
            "text/plain": [
              "(array([   2,    3,    4, ..., 1679, 1680, 1681]),)"
            ]
          },
          "metadata": {},
          "execution_count": 72
        }
      ]
    },
    {
      "cell_type": "code",
      "source": [
        "unwatched_movies = pd.DataFrame(unwatched)\n",
        "unwatched_movies=unwatched_movies.T\n",
        "unwatched_movies.columns=['movieId']\n",
        "\n",
        "print(type(unwatched_movies))\n",
        "unwatched_movies['Query_userId'] = query\n",
        "print(\"List of unwatchewd movie Ids \\n\",unwatched_movies)"
      ],
      "metadata": {
        "colab": {
          "base_uri": "https://localhost:8080/"
        },
        "id": "j1QOAMy-ZfCp",
        "outputId": "45def829-c416-4812-93e2-6ea4d52f61ec"
      },
      "id": "j1QOAMy-ZfCp",
      "execution_count": 73,
      "outputs": [
        {
          "output_type": "stream",
          "name": "stdout",
          "text": [
            "<class 'pandas.core.frame.DataFrame'>\n",
            "List of unwatchewd movie Ids \n",
            "       movieId  Query_userId\n",
            "0           2             5\n",
            "1           3             5\n",
            "2           4             5\n",
            "3           5             5\n",
            "4           6             5\n",
            "...       ...           ...\n",
            "1502     1677             5\n",
            "1503     1678             5\n",
            "1504     1679             5\n",
            "1505     1680             5\n",
            "1506     1681             5\n",
            "\n",
            "[1507 rows x 2 columns]\n"
          ]
        }
      ]
    },
    {
      "cell_type": "code",
      "source": [
        "#predicting the rating for the unwatched movies\n",
        "query_pred = MLP_model.predict([unwatched_movies.Query_userId.values.astype('float32'), unwatched_movies.movieId .values.astype('float32')])\n"
      ],
      "metadata": {
        "colab": {
          "base_uri": "https://localhost:8080/"
        },
        "id": "3U3jr6aox4Q7",
        "outputId": "439a9b4a-fd2a-4c26-d9a0-993cf919ebcd"
      },
      "id": "3U3jr6aox4Q7",
      "execution_count": 74,
      "outputs": [
        {
          "output_type": "stream",
          "name": "stdout",
          "text": [
            "48/48 [==============================] - 0s 4ms/step\n"
          ]
        }
      ]
    },
    {
      "cell_type": "code",
      "source": [
        "print(max(query_pred))\n",
        "print(min(query_pred))"
      ],
      "metadata": {
        "colab": {
          "base_uri": "https://localhost:8080/"
        },
        "id": "z_wmjvji1jTw",
        "outputId": "01dc2905-d9c0-4399-8c5f-c7dd17135853"
      },
      "id": "z_wmjvji1jTw",
      "execution_count": 75,
      "outputs": [
        {
          "output_type": "stream",
          "name": "stdout",
          "text": [
            "[4.295789]\n",
            "[0.9700907]\n"
          ]
        }
      ]
    },
    {
      "cell_type": "code",
      "source": [
        "#creating a dataframe with the predicted ratings for the unwatched movies\n",
        "rat_hat=pd.DataFrame(query_pred)\n",
        "rat_hat.columns=['rating_hat']\n",
        "\n",
        "unwatched_movies['ratings_hat']=rat_hat['rating_hat']\n",
        "print(unwatched_movies.head())\n",
        "print(unwatched_movies.shape)\n",
        "#keeping the scale of rating between 1 and 5\n",
        "unwatched_movies.loc[unwatched_movies['ratings_hat']>5,'ratings_hat'] = 5\n",
        "unwatched_movies.loc[unwatched_movies['ratings_hat']<1,'ratings_hat'] = 1"
      ],
      "metadata": {
        "colab": {
          "base_uri": "https://localhost:8080/"
        },
        "id": "O8wvGZ8qURdV",
        "outputId": "f892e150-2ecb-475e-f0c2-3ba061947a2b"
      },
      "id": "O8wvGZ8qURdV",
      "execution_count": 76,
      "outputs": [
        {
          "output_type": "stream",
          "name": "stdout",
          "text": [
            "   movieId  Query_userId  ratings_hat\n",
            "0        2             5     2.917938\n",
            "1        3             5     2.700421\n",
            "2        4             5     3.252240\n",
            "3        5             5     2.825223\n",
            "4        6             5     2.750224\n",
            "(1507, 3)\n"
          ]
        }
      ]
    },
    {
      "cell_type": "code",
      "source": [
        "#sorting the ratings in descending order\n",
        "final_df = unwatched_movies.sort_values(by=['ratings_hat'], ascending=False)\n",
        "print(final_df.head())\n"
      ],
      "metadata": {
        "colab": {
          "base_uri": "https://localhost:8080/"
        },
        "id": "dcOIslMT4aA5",
        "outputId": "39021b2d-afbb-48f9-ee3a-b4a81dac5d47"
      },
      "id": "dcOIslMT4aA5",
      "execution_count": 77,
      "outputs": [
        {
          "output_type": "stream",
          "name": "stdout",
          "text": [
            "      movieId  Query_userId  ratings_hat\n",
            "676       851             5     4.295789\n",
            "1192     1367             5     4.215064\n",
            "1274     1449             5     4.177098\n",
            "308       483             5     4.174873\n",
            "238       318             5     4.072565\n"
          ]
        }
      ]
    },
    {
      "cell_type": "code",
      "source": [
        "num_rec=input('How many recommendations you want to make\\n')"
      ],
      "metadata": {
        "id": "XIRV5ko-JEIm",
        "colab": {
          "base_uri": "https://localhost:8080/"
        },
        "outputId": "ad0a7a84-f316-4541-f99f-9fa211bb0711"
      },
      "id": "XIRV5ko-JEIm",
      "execution_count": 81,
      "outputs": [
        {
          "name": "stdout",
          "output_type": "stream",
          "text": [
            "How many recommendations you want to make\n",
            "10\n"
          ]
        }
      ]
    },
    {
      "cell_type": "code",
      "source": [
        "i=int(num_rec)\n",
        "rec_list = final_df.iloc[:i]\n",
        "print(rec_list)"
      ],
      "metadata": {
        "id": "XeVP3nh5_gkw",
        "colab": {
          "base_uri": "https://localhost:8080/"
        },
        "outputId": "89a9c840-56f3-4287-ae05-5806653829d0"
      },
      "id": "XeVP3nh5_gkw",
      "execution_count": 82,
      "outputs": [
        {
          "output_type": "stream",
          "name": "stdout",
          "text": [
            "      movieId  Query_userId  ratings_hat\n",
            "676       851             5     4.295789\n",
            "1192     1367             5     4.215064\n",
            "1274     1449             5     4.177098\n",
            "308       483             5     4.174873\n",
            "238       318             5     4.072565\n",
            "1014     1189             5     4.069124\n",
            "10         12             5     4.062088\n",
            "126       169             5     4.058796\n",
            "85        114             5     4.036878\n",
            "52         64             5     4.030458\n"
          ]
        }
      ]
    },
    {
      "cell_type": "code",
      "source": [
        "#Recommending the movies\n",
        "print(\"Recommendations for user no. \",query,\" is :\\n\")\n",
        "df_movies.loc[df_movies['movieId'].isin(rec_list['movieId'])]['title']\n"
      ],
      "metadata": {
        "colab": {
          "base_uri": "https://localhost:8080/"
        },
        "id": "G23ru--wV3GX",
        "outputId": "4bd9f2de-3d37-4ea6-ff28-5b4d422b4c2e"
      },
      "id": "G23ru--wV3GX",
      "execution_count": 83,
      "outputs": [
        {
          "output_type": "stream",
          "name": "stdout",
          "text": [
            "Recommendations for user no.  5  is :\n",
            "\n"
          ]
        },
        {
          "output_type": "execute_result",
          "data": {
            "text/plain": [
              "11                             Usual Suspects, The (1995)\n",
              "63                       Shawshank Redemption, The (1994)\n",
              "113     Wallace & Gromit: The Best of Aardman Animatio...\n",
              "168                            Wrong Trousers, The (1993)\n",
              "317                               Schindler's List (1993)\n",
              "482                                     Casablanca (1942)\n",
              "850           Two or Three Things I Know About Her (1966)\n",
              "1188                                   Prefontaine (1997)\n",
              "1366                                         Faust (1994)\n",
              "1448                               Pather Panchali (1955)\n",
              "Name: title, dtype: object"
            ]
          },
          "metadata": {},
          "execution_count": 83
        }
      ]
    },
    {
      "cell_type": "code",
      "source": [],
      "metadata": {
        "id": "ziEUzD_8bmtJ"
      },
      "id": "ziEUzD_8bmtJ",
      "execution_count": null,
      "outputs": []
    }
  ],
  "metadata": {
    "kernelspec": {
      "display_name": "Python 3 (ipykernel)",
      "language": "python",
      "name": "python3"
    },
    "language_info": {
      "codemirror_mode": {
        "name": "ipython",
        "version": 3
      },
      "file_extension": ".py",
      "mimetype": "text/x-python",
      "name": "python",
      "nbconvert_exporter": "python",
      "pygments_lexer": "ipython3",
      "version": "3.9.12"
    },
    "colab": {
      "provenance": []
    }
  },
  "nbformat": 4,
  "nbformat_minor": 5
}